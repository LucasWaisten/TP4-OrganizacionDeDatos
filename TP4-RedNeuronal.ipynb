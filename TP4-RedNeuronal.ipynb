{
 "cells": [
  {
   "cell_type": "markdown",
   "id": "1OPZQvIlR_f_",
   "metadata": {
    "id": "1OPZQvIlR_f_",
    "slideshow": {
     "slide_type": "slide"
    }
   },
   "source": [
    "# TP4 Machine Learning - Red Neuronal"
   ]
  },
  {
   "cell_type": "code",
   "execution_count": 66,
   "id": "3cf785ca-63e4-4c77-8481-4bedb8329124",
   "metadata": {
    "executionInfo": {
     "elapsed": 35,
     "status": "ok",
     "timestamp": 1640030014733,
     "user": {
      "displayName": "Lucas Waisten",
      "photoUrl": "https://lh3.googleusercontent.com/a-/AOh14Gh4ur3rYtRmgg_ESTN1raRy7h7j5j5Pq50RpVRTUg=s64",
      "userId": "10124790364631417978"
     },
     "user_tz": 180
    },
    "id": "3cf785ca-63e4-4c77-8481-4bedb8329124",
    "slideshow": {
     "slide_type": "skip"
    }
   },
   "outputs": [],
   "source": [
    "import bz2\n",
    "import nltk\n",
    "from sklearn.feature_extraction.text import CountVectorizer, TfidfVectorizer\n",
    "import random\n",
    "import numpy as np\n",
    "import matplotlib.pyplot as plt\n",
    "import pickle\n",
    "from tqdm import tqdm\n",
    "from tensorflow import keras\n",
    "import pandas as pd\n",
    "import gensim\n",
    "import tensorflow as tf"
   ]
  },
  {
   "cell_type": "code",
   "execution_count": 2,
   "id": "8755cdd9-ea9f-4b8d-88ba-12f5564e0a05",
   "metadata": {
    "executionInfo": {
     "elapsed": 17,
     "status": "ok",
     "timestamp": 1640025994686,
     "user": {
      "displayName": "Lucas Waisten",
      "photoUrl": "https://lh3.googleusercontent.com/a-/AOh14Gh4ur3rYtRmgg_ESTN1raRy7h7j5j5Pq50RpVRTUg=s64",
      "userId": "10124790364631417978"
     },
     "user_tz": 180
    },
    "id": "8755cdd9-ea9f-4b8d-88ba-12f5564e0a05",
    "slideshow": {
     "slide_type": "skip"
    }
   },
   "outputs": [],
   "source": [
    "tf.config.set_visible_devices([], 'GPU')\n",
    "visible_devices = tf.config.get_visible_devices()\n",
    "for device in visible_devices:\n",
    "    assert device.device_type != 'GPU'"
   ]
  },
  {
   "cell_type": "code",
   "execution_count": 3,
   "id": "Bbj34dU54sFR",
   "metadata": {
    "colab": {
     "base_uri": "https://localhost:8080/"
    },
    "executionInfo": {
     "elapsed": 32440,
     "status": "ok",
     "timestamp": 1640026027113,
     "user": {
      "displayName": "Lucas Waisten",
      "photoUrl": "https://lh3.googleusercontent.com/a-/AOh14Gh4ur3rYtRmgg_ESTN1raRy7h7j5j5Pq50RpVRTUg=s64",
      "userId": "10124790364631417978"
     },
     "user_tz": 180
    },
    "id": "Bbj34dU54sFR",
    "outputId": "2c25f6a5-a569-4ffe-96f7-f98134fd6eb8",
    "slideshow": {
     "slide_type": "skip"
    }
   },
   "outputs": [
    {
     "name": "stdout",
     "output_type": "stream",
     "text": [
      "Mounted at /content/drive\n"
     ]
    }
   ],
   "source": [
    "from google.colab import drive\n",
    "drive.mount('/content/drive')"
   ]
  },
  {
   "cell_type": "markdown",
   "id": "h3o_5Kk-SQ7T",
   "metadata": {
    "id": "h3o_5Kk-SQ7T",
    "slideshow": {
     "slide_type": "skip"
    }
   },
   "source": [
    "## Lectura de Archivo"
   ]
  },
  {
   "cell_type": "code",
   "execution_count": 4,
   "id": "81c453c1-7f52-4026-9207-ff7a2e12811e",
   "metadata": {
    "colab": {
     "base_uri": "https://localhost:8080/",
     "height": 206
    },
    "executionInfo": {
     "elapsed": 2009,
     "status": "ok",
     "timestamp": 1640026029110,
     "user": {
      "displayName": "Lucas Waisten",
      "photoUrl": "https://lh3.googleusercontent.com/a-/AOh14Gh4ur3rYtRmgg_ESTN1raRy7h7j5j5Pq50RpVRTUg=s64",
      "userId": "10124790364631417978"
     },
     "user_tz": 180
    },
    "id": "81c453c1-7f52-4026-9207-ff7a2e12811e",
    "outputId": "f9dc3b53-f8e4-4dcd-b979-ec06dcb0e612",
    "slideshow": {
     "slide_type": "skip"
    }
   },
   "outputs": [
    {
     "data": {
      "text/html": [
       "\n",
       "  <div id=\"df-127647be-88db-4a54-9838-bd108471f96a\">\n",
       "    <div class=\"colab-df-container\">\n",
       "      <div>\n",
       "<style scoped>\n",
       "    .dataframe tbody tr th:only-of-type {\n",
       "        vertical-align: middle;\n",
       "    }\n",
       "\n",
       "    .dataframe tbody tr th {\n",
       "        vertical-align: top;\n",
       "    }\n",
       "\n",
       "    .dataframe thead th {\n",
       "        text-align: right;\n",
       "    }\n",
       "</style>\n",
       "<table border=\"1\" class=\"dataframe\">\n",
       "  <thead>\n",
       "    <tr style=\"text-align: right;\">\n",
       "      <th></th>\n",
       "      <th>item_id</th>\n",
       "      <th>date_created</th>\n",
       "      <th>comment</th>\n",
       "      <th>rating</th>\n",
       "    </tr>\n",
       "  </thead>\n",
       "  <tbody>\n",
       "    <tr>\n",
       "      <th>268959</th>\n",
       "      <td>a1-cocaine-0-2g-sample-free-shipping-worldwide-a1</td>\n",
       "      <td>2014-10-04</td>\n",
       "      <td>resent after initial mix up - quality seems pr...</td>\n",
       "      <td>5.0</td>\n",
       "    </tr>\n",
       "    <tr>\n",
       "      <th>82735</th>\n",
       "      <td>1-000-us-dollars-cash-10-100-bills</td>\n",
       "      <td>2014-04-26</td>\n",
       "      <td>If you like crisp $100 bills fast this is your...</td>\n",
       "      <td>5.0</td>\n",
       "    </tr>\n",
       "    <tr>\n",
       "      <th>110619</th>\n",
       "      <td>ice-uncut-2-grams</td>\n",
       "      <td>2014-05-29</td>\n",
       "      <td>second order with professionals. Good stealth ...</td>\n",
       "      <td>5.0</td>\n",
       "    </tr>\n",
       "    <tr>\n",
       "      <th>270458</th>\n",
       "      <td>7-grams-hydro-buds</td>\n",
       "      <td>2014-10-05</td>\n",
       "      <td>5/5. Late review, apologies. Really good weed,...</td>\n",
       "      <td>5.0</td>\n",
       "    </tr>\n",
       "    <tr>\n",
       "      <th>312338</th>\n",
       "      <td>1-2-g-california-kush-high-quality-free-uk-pos...</td>\n",
       "      <td>2014-11-01</td>\n",
       "      <td>Great buds, nice smoke. Excellent stealth ship...</td>\n",
       "      <td>5.0</td>\n",
       "    </tr>\n",
       "  </tbody>\n",
       "</table>\n",
       "</div>\n",
       "      <button class=\"colab-df-convert\" onclick=\"convertToInteractive('df-127647be-88db-4a54-9838-bd108471f96a')\"\n",
       "              title=\"Convert this dataframe to an interactive table.\"\n",
       "              style=\"display:none;\">\n",
       "        \n",
       "  <svg xmlns=\"http://www.w3.org/2000/svg\" height=\"24px\"viewBox=\"0 0 24 24\"\n",
       "       width=\"24px\">\n",
       "    <path d=\"M0 0h24v24H0V0z\" fill=\"none\"/>\n",
       "    <path d=\"M18.56 5.44l.94 2.06.94-2.06 2.06-.94-2.06-.94-.94-2.06-.94 2.06-2.06.94zm-11 1L8.5 8.5l.94-2.06 2.06-.94-2.06-.94L8.5 2.5l-.94 2.06-2.06.94zm10 10l.94 2.06.94-2.06 2.06-.94-2.06-.94-.94-2.06-.94 2.06-2.06.94z\"/><path d=\"M17.41 7.96l-1.37-1.37c-.4-.4-.92-.59-1.43-.59-.52 0-1.04.2-1.43.59L10.3 9.45l-7.72 7.72c-.78.78-.78 2.05 0 2.83L4 21.41c.39.39.9.59 1.41.59.51 0 1.02-.2 1.41-.59l7.78-7.78 2.81-2.81c.8-.78.8-2.07 0-2.86zM5.41 20L4 18.59l7.72-7.72 1.47 1.35L5.41 20z\"/>\n",
       "  </svg>\n",
       "      </button>\n",
       "      \n",
       "  <style>\n",
       "    .colab-df-container {\n",
       "      display:flex;\n",
       "      flex-wrap:wrap;\n",
       "      gap: 12px;\n",
       "    }\n",
       "\n",
       "    .colab-df-convert {\n",
       "      background-color: #E8F0FE;\n",
       "      border: none;\n",
       "      border-radius: 50%;\n",
       "      cursor: pointer;\n",
       "      display: none;\n",
       "      fill: #1967D2;\n",
       "      height: 32px;\n",
       "      padding: 0 0 0 0;\n",
       "      width: 32px;\n",
       "    }\n",
       "\n",
       "    .colab-df-convert:hover {\n",
       "      background-color: #E2EBFA;\n",
       "      box-shadow: 0px 1px 2px rgba(60, 64, 67, 0.3), 0px 1px 3px 1px rgba(60, 64, 67, 0.15);\n",
       "      fill: #174EA6;\n",
       "    }\n",
       "\n",
       "    [theme=dark] .colab-df-convert {\n",
       "      background-color: #3B4455;\n",
       "      fill: #D2E3FC;\n",
       "    }\n",
       "\n",
       "    [theme=dark] .colab-df-convert:hover {\n",
       "      background-color: #434B5C;\n",
       "      box-shadow: 0px 1px 3px 1px rgba(0, 0, 0, 0.15);\n",
       "      filter: drop-shadow(0px 1px 2px rgba(0, 0, 0, 0.3));\n",
       "      fill: #FFFFFF;\n",
       "    }\n",
       "  </style>\n",
       "\n",
       "      <script>\n",
       "        const buttonEl =\n",
       "          document.querySelector('#df-127647be-88db-4a54-9838-bd108471f96a button.colab-df-convert');\n",
       "        buttonEl.style.display =\n",
       "          google.colab.kernel.accessAllowed ? 'block' : 'none';\n",
       "\n",
       "        async function convertToInteractive(key) {\n",
       "          const element = document.querySelector('#df-127647be-88db-4a54-9838-bd108471f96a');\n",
       "          const dataTable =\n",
       "            await google.colab.kernel.invokeFunction('convertToInteractive',\n",
       "                                                     [key], {});\n",
       "          if (!dataTable) return;\n",
       "\n",
       "          const docLinkHtml = 'Like what you see? Visit the ' +\n",
       "            '<a target=\"_blank\" href=https://colab.research.google.com/notebooks/data_table.ipynb>data table notebook</a>'\n",
       "            + ' to learn more about interactive tables.';\n",
       "          element.innerHTML = '';\n",
       "          dataTable['output_type'] = 'display_data';\n",
       "          await google.colab.output.renderOutput(dataTable, element);\n",
       "          const docLink = document.createElement('div');\n",
       "          docLink.innerHTML = docLinkHtml;\n",
       "          element.appendChild(docLink);\n",
       "        }\n",
       "      </script>\n",
       "    </div>\n",
       "  </div>\n",
       "  "
      ],
      "text/plain": [
       "                                                  item_id  ... rating\n",
       "268959  a1-cocaine-0-2g-sample-free-shipping-worldwide-a1  ...    5.0\n",
       "82735                  1-000-us-dollars-cash-10-100-bills  ...    5.0\n",
       "110619                                  ice-uncut-2-grams  ...    5.0\n",
       "270458                                 7-grams-hydro-buds  ...    5.0\n",
       "312338  1-2-g-california-kush-high-quality-free-uk-pos...  ...    5.0\n",
       "\n",
       "[5 rows x 4 columns]"
      ]
     },
     "execution_count": 4,
     "metadata": {},
     "output_type": "execute_result"
    }
   ],
   "source": [
    "reviews = pd.read_csv('/content/drive/MyDrive/Colab Notebooks/TP4/silkroad_reviews.csv')"
   ]
  },
  {
   "cell_type": "markdown",
   "id": "cYkjSU06SUJt",
   "metadata": {
    "id": "cYkjSU06SUJt",
    "slideshow": {
     "slide_type": "skip"
    }
   },
   "source": [
    "Armo un dataframe para entrenar y uno para testear"
   ]
  },
  {
   "cell_type": "code",
   "execution_count": 5,
   "id": "BVpyX2_T6FWc",
   "metadata": {
    "executionInfo": {
     "elapsed": 10,
     "status": "ok",
     "timestamp": 1640026029110,
     "user": {
      "displayName": "Lucas Waisten",
      "photoUrl": "https://lh3.googleusercontent.com/a-/AOh14Gh4ur3rYtRmgg_ESTN1raRy7h7j5j5Pq50RpVRTUg=s64",
      "userId": "10124790364631417978"
     },
     "user_tz": 180
    },
    "id": "BVpyX2_T6FWc",
    "slideshow": {
     "slide_type": "skip"
    }
   },
   "outputs": [],
   "source": [
    "reviews = reviews.loc[:][reviews.rating <=5]"
   ]
  },
  {
   "cell_type": "code",
   "execution_count": 6,
   "id": "W5wCBuu66J3t",
   "metadata": {
    "executionInfo": {
     "elapsed": 10,
     "status": "ok",
     "timestamp": 1640026029111,
     "user": {
      "displayName": "Lucas Waisten",
      "photoUrl": "https://lh3.googleusercontent.com/a-/AOh14Gh4ur3rYtRmgg_ESTN1raRy7h7j5j5Pq50RpVRTUg=s64",
      "userId": "10124790364631417978"
     },
     "user_tz": 180
    },
    "id": "W5wCBuu66J3t",
    "slideshow": {
     "slide_type": "skip"
    }
   },
   "outputs": [],
   "source": [
    "limite = reviews.index.size*0.9"
   ]
  },
  {
   "cell_type": "code",
   "execution_count": 7,
   "id": "6m1c1UMi6Llw",
   "metadata": {
    "executionInfo": {
     "elapsed": 9,
     "status": "ok",
     "timestamp": 1640026029111,
     "user": {
      "displayName": "Lucas Waisten",
      "photoUrl": "https://lh3.googleusercontent.com/a-/AOh14Gh4ur3rYtRmgg_ESTN1raRy7h7j5j5Pq50RpVRTUg=s64",
      "userId": "10124790364631417978"
     },
     "user_tz": 180
    },
    "id": "6m1c1UMi6Llw",
    "slideshow": {
     "slide_type": "skip"
    }
   },
   "outputs": [],
   "source": [
    "top = reviews.index > limite"
   ]
  },
  {
   "cell_type": "code",
   "execution_count": 8,
   "id": "nv_pt2Ka6Okr",
   "metadata": {
    "executionInfo": {
     "elapsed": 10,
     "status": "ok",
     "timestamp": 1640026029112,
     "user": {
      "displayName": "Lucas Waisten",
      "photoUrl": "https://lh3.googleusercontent.com/a-/AOh14Gh4ur3rYtRmgg_ESTN1raRy7h7j5j5Pq50RpVRTUg=s64",
      "userId": "10124790364631417978"
     },
     "user_tz": 180
    },
    "id": "nv_pt2Ka6Okr",
    "slideshow": {
     "slide_type": "skip"
    }
   },
   "outputs": [],
   "source": [
    "down = reviews.index <= limite "
   ]
  },
  {
   "cell_type": "code",
   "execution_count": 9,
   "id": "Gm6bPNCl6Qp4",
   "metadata": {
    "executionInfo": {
     "elapsed": 9,
     "status": "ok",
     "timestamp": 1640026029112,
     "user": {
      "displayName": "Lucas Waisten",
      "photoUrl": "https://lh3.googleusercontent.com/a-/AOh14Gh4ur3rYtRmgg_ESTN1raRy7h7j5j5Pq50RpVRTUg=s64",
      "userId": "10124790364631417978"
     },
     "user_tz": 180
    },
    "id": "Gm6bPNCl6Qp4",
    "slideshow": {
     "slide_type": "skip"
    }
   },
   "outputs": [],
   "source": [
    "test = reviews[top]"
   ]
  },
  {
   "cell_type": "code",
   "execution_count": 10,
   "id": "dnNUwA9x6SQI",
   "metadata": {
    "executionInfo": {
     "elapsed": 8,
     "status": "ok",
     "timestamp": 1640026029112,
     "user": {
      "displayName": "Lucas Waisten",
      "photoUrl": "https://lh3.googleusercontent.com/a-/AOh14Gh4ur3rYtRmgg_ESTN1raRy7h7j5j5Pq50RpVRTUg=s64",
      "userId": "10124790364631417978"
     },
     "user_tz": 180
    },
    "id": "dnNUwA9x6SQI",
    "slideshow": {
     "slide_type": "skip"
    }
   },
   "outputs": [],
   "source": [
    "train = reviews[down]"
   ]
  },
  {
   "cell_type": "code",
   "execution_count": 11,
   "id": "c6413a8d-df0d-4e36-b74a-196befea332f",
   "metadata": {
    "executionInfo": {
     "elapsed": 9,
     "status": "ok",
     "timestamp": 1640026029113,
     "user": {
      "displayName": "Lucas Waisten",
      "photoUrl": "https://lh3.googleusercontent.com/a-/AOh14Gh4ur3rYtRmgg_ESTN1raRy7h7j5j5Pq50RpVRTUg=s64",
      "userId": "10124790364631417978"
     },
     "user_tz": 180
    },
    "id": "c6413a8d-df0d-4e36-b74a-196befea332f",
    "slideshow": {
     "slide_type": "skip"
    }
   },
   "outputs": [],
   "source": [
    "from sklearn.metrics import accuracy_score"
   ]
  },
  {
   "cell_type": "markdown",
   "id": "f8i4rLzYS--X",
   "metadata": {
    "id": "f8i4rLzYS--X",
    "slideshow": {
     "slide_type": "subslide"
    }
   },
   "source": [
    "## Embeding de los comentarios del dataframe "
   ]
  },
  {
   "cell_type": "code",
   "execution_count": 14,
   "id": "292c0aa9-5b3c-41aa-82c3-27b068e4c93b",
   "metadata": {
    "colab": {
     "base_uri": "https://localhost:8080/"
    },
    "executionInfo": {
     "elapsed": 21,
     "status": "ok",
     "timestamp": 1640026029579,
     "user": {
      "displayName": "Lucas Waisten",
      "photoUrl": "https://lh3.googleusercontent.com/a-/AOh14Gh4ur3rYtRmgg_ESTN1raRy7h7j5j5Pq50RpVRTUg=s64",
      "userId": "10124790364631417978"
     },
     "user_tz": 180
    },
    "id": "292c0aa9-5b3c-41aa-82c3-27b068e4c93b",
    "outputId": "5da8c813-e946-4201-c406-5d921f2345f0",
    "slideshow": {
     "slide_type": "fragment"
    }
   },
   "outputs": [
    {
     "name": "stderr",
     "output_type": "stream",
     "text": [
      "/usr/local/lib/python3.7/dist-packages/ipykernel_launcher.py:1: SettingWithCopyWarning: \n",
      "A value is trying to be set on a copy of a slice from a DataFrame.\n",
      "Try using .loc[row_indexer,col_indexer] = value instead\n",
      "\n",
      "See the caveats in the documentation: https://pandas.pydata.org/pandas-docs/stable/user_guide/indexing.html#returning-a-view-versus-a-copy\n",
      "  \"\"\"Entry point for launching an IPython kernel.\n"
     ]
    }
   ],
   "source": [
    "train['comment'] = train['comment'].str.lower()"
   ]
  },
  {
   "cell_type": "code",
   "execution_count": 15,
   "id": "hBfIgivX6j-a",
   "metadata": {
    "colab": {
     "base_uri": "https://localhost:8080/"
    },
    "executionInfo": {
     "elapsed": 5824,
     "status": "ok",
     "timestamp": 1640026035390,
     "user": {
      "displayName": "Lucas Waisten",
      "photoUrl": "https://lh3.googleusercontent.com/a-/AOh14Gh4ur3rYtRmgg_ESTN1raRy7h7j5j5Pq50RpVRTUg=s64",
      "userId": "10124790364631417978"
     },
     "user_tz": 180
    },
    "id": "hBfIgivX6j-a",
    "outputId": "0e79a0ab-c71d-4c88-ead3-f2be2d43fce1",
    "slideshow": {
     "slide_type": "skip"
    }
   },
   "outputs": [
    {
     "name": "stdout",
     "output_type": "stream",
     "text": [
      "Collecting wget\n",
      "  Downloading wget-3.2.zip (10 kB)\n",
      "Building wheels for collected packages: wget\n",
      "  Building wheel for wget (setup.py) ... \u001b[?25l\u001b[?25hdone\n",
      "  Created wheel for wget: filename=wget-3.2-py3-none-any.whl size=9672 sha256=8732d572f6b9d240f4746521cddc310a84e9a50f380c38c65796281b2ed0eda9\n",
      "  Stored in directory: /root/.cache/pip/wheels/a1/b6/7c/0e63e34eb06634181c63adacca38b79ff8f35c37e3c13e3c02\n",
      "Successfully built wget\n",
      "Installing collected packages: wget\n",
      "Successfully installed wget-3.2\n"
     ]
    }
   ],
   "source": [
    "!pip install wget"
   ]
  },
  {
   "cell_type": "code",
   "execution_count": 16,
   "id": "W_cYXDT46mkU",
   "metadata": {
    "executionInfo": {
     "elapsed": 43936,
     "status": "ok",
     "timestamp": 1640026079300,
     "user": {
      "displayName": "Lucas Waisten",
      "photoUrl": "https://lh3.googleusercontent.com/a-/AOh14Gh4ur3rYtRmgg_ESTN1raRy7h7j5j5Pq50RpVRTUg=s64",
      "userId": "10124790364631417978"
     },
     "user_tz": 180
    },
    "id": "W_cYXDT46mkU",
    "slideshow": {
     "slide_type": "skip"
    }
   },
   "outputs": [],
   "source": [
    "\n",
    "import wget\n",
    "url = 'https://s3.amazonaws.com/dl4j-distribution/GoogleNews-vectors-negative300.bin.gz'\n",
    "filename = wget.download(url)"
   ]
  },
  {
   "cell_type": "code",
   "execution_count": 17,
   "id": "UYAkaeJ06rsD",
   "metadata": {
    "executionInfo": {
     "elapsed": 66086,
     "status": "ok",
     "timestamp": 1640026145382,
     "user": {
      "displayName": "Lucas Waisten",
      "photoUrl": "https://lh3.googleusercontent.com/a-/AOh14Gh4ur3rYtRmgg_ESTN1raRy7h7j5j5Pq50RpVRTUg=s64",
      "userId": "10124790364631417978"
     },
     "user_tz": 180
    },
    "id": "UYAkaeJ06rsD",
    "slideshow": {
     "slide_type": "skip"
    }
   },
   "outputs": [],
   "source": [
    "import gzip\n",
    "f_in = gzip.open('GoogleNews-vectors-negative300.bin.gz', 'rb')\n",
    "f_out = open('GoogleNews-vectors-negative300.bin', 'wb')\n",
    "f_out.writelines(f_in)"
   ]
  },
  {
   "cell_type": "code",
   "execution_count": 18,
   "id": "84D_qKOT6xeX",
   "metadata": {
    "executionInfo": {
     "elapsed": 38,
     "status": "ok",
     "timestamp": 1640026145383,
     "user": {
      "displayName": "Lucas Waisten",
      "photoUrl": "https://lh3.googleusercontent.com/a-/AOh14Gh4ur3rYtRmgg_ESTN1raRy7h7j5j5Pq50RpVRTUg=s64",
      "userId": "10124790364631417978"
     },
     "user_tz": 180
    },
    "id": "84D_qKOT6xeX",
    "slideshow": {
     "slide_type": "skip"
    }
   },
   "outputs": [],
   "source": [
    "\n",
    "import gensim\n",
    "from gensim.models import Word2Vec, KeyedVectors\n",
    "from sklearn.decomposition import PCA"
   ]
  },
  {
   "cell_type": "markdown",
   "id": "iTvP5at4bCG7",
   "metadata": {
    "id": "iTvP5at4bCG7",
    "slideshow": {
     "slide_type": "skip"
    }
   },
   "source": [
    "## Utilizacion de Word2Vec"
   ]
  },
  {
   "cell_type": "code",
   "execution_count": 19,
   "id": "ed4da3bc-59f6-4f6b-8ec6-5d7213a01d43",
   "metadata": {
    "executionInfo": {
     "elapsed": 1898,
     "status": "ok",
     "timestamp": 1640026147246,
     "user": {
      "displayName": "Lucas Waisten",
      "photoUrl": "https://lh3.googleusercontent.com/a-/AOh14Gh4ur3rYtRmgg_ESTN1raRy7h7j5j5Pq50RpVRTUg=s64",
      "userId": "10124790364631417978"
     },
     "user_tz": 180
    },
    "id": "ed4da3bc-59f6-4f6b-8ec6-5d7213a01d43",
    "slideshow": {
     "slide_type": "fragment"
    }
   },
   "outputs": [],
   "source": [
    "w2v_model = gensim.models.KeyedVectors.load_word2vec_format('GoogleNews-vectors-negative300.bin', binary=True,limit=100000)"
   ]
  },
  {
   "cell_type": "code",
   "execution_count": 23,
   "id": "bfddf970-b37f-4a89-b8df-36469ad2109e",
   "metadata": {
    "colab": {
     "base_uri": "https://localhost:8080/"
    },
    "executionInfo": {
     "elapsed": 397,
     "status": "ok",
     "timestamp": 1640026148319,
     "user": {
      "displayName": "Lucas Waisten",
      "photoUrl": "https://lh3.googleusercontent.com/a-/AOh14Gh4ur3rYtRmgg_ESTN1raRy7h7j5j5Pq50RpVRTUg=s64",
      "userId": "10124790364631417978"
     },
     "user_tz": 180
    },
    "id": "bfddf970-b37f-4a89-b8df-36469ad2109e",
    "outputId": "70526df6-47fb-4e2f-bbc9-d954f7ba67a3",
    "slideshow": {
     "slide_type": "subslide"
    }
   },
   "outputs": [
    {
     "name": "stderr",
     "output_type": "stream",
     "text": [
      "/usr/local/lib/python3.7/dist-packages/ipykernel_launcher.py:3: DeprecationWarning: Call to deprecated `wv` (Attribute will be removed in 4.0.0, use self instead).\n",
      "  This is separate from the ipykernel package so we can avoid doing imports until\n"
     ]
    }
   ],
   "source": [
    "emb_matrix = np.concatenate([np.zeros((1,300)), \n",
    "                             np.random.normal(size=(1,300)),\n",
    "                             w2v_model.wv.vectors[:500000]], axis=0)"
   ]
  },
  {
   "cell_type": "code",
   "execution_count": 25,
   "id": "C4nvPvDgQkaa",
   "metadata": {
    "colab": {
     "base_uri": "https://localhost:8080/"
    },
    "executionInfo": {
     "elapsed": 419,
     "status": "ok",
     "timestamp": 1640026148733,
     "user": {
      "displayName": "Lucas Waisten",
      "photoUrl": "https://lh3.googleusercontent.com/a-/AOh14Gh4ur3rYtRmgg_ESTN1raRy7h7j5j5Pq50RpVRTUg=s64",
      "userId": "10124790364631417978"
     },
     "user_tz": 180
    },
    "id": "C4nvPvDgQkaa",
    "outputId": "d810699d-3367-495b-8d99-2930a96438f5",
    "slideshow": {
     "slide_type": "skip"
    }
   },
   "outputs": [
    {
     "name": "stdout",
     "output_type": "stream",
     "text": [
      "[nltk_data] Downloading package punkt to /root/nltk_data...\n",
      "[nltk_data]   Unzipping tokenizers/punkt.zip.\n"
     ]
    },
    {
     "data": {
      "text/plain": [
       "True"
      ]
     },
     "execution_count": 25,
     "metadata": {},
     "output_type": "execute_result"
    }
   ],
   "source": [
    "nltk.download('punkt')"
   ]
  },
  {
   "cell_type": "code",
   "execution_count": 27,
   "id": "065f5956-bd3f-43f5-82ed-08552fdb3004",
   "metadata": {
    "colab": {
     "base_uri": "https://localhost:8080/"
    },
    "executionInfo": {
     "elapsed": 57065,
     "status": "ok",
     "timestamp": 1640026205796,
     "user": {
      "displayName": "Lucas Waisten",
      "photoUrl": "https://lh3.googleusercontent.com/a-/AOh14Gh4ur3rYtRmgg_ESTN1raRy7h7j5j5Pq50RpVRTUg=s64",
      "userId": "10124790364631417978"
     },
     "user_tz": 180
    },
    "id": "065f5956-bd3f-43f5-82ed-08552fdb3004",
    "outputId": "0ea0df0d-9d23-4153-b4e3-963eb6d67f00",
    "slideshow": {
     "slide_type": "fragment"
    }
   },
   "outputs": [
    {
     "name": "stderr",
     "output_type": "stream",
     "text": [
      "100%|██████████| 282783/282783 [00:56<00:00, 4988.17it/s]\n"
     ]
    }
   ],
   "source": [
    "tokenized_texts = []\n",
    "for texto in tqdm(train['comment'].apply(str)):\n",
    "    tokenized_texts.append(nltk.word_tokenize(texto))"
   ]
  },
  {
   "cell_type": "markdown",
   "id": "Yygo4m-6StYH",
   "metadata": {
    "id": "Yygo4m-6StYH",
    "slideshow": {
     "slide_type": "skip"
    }
   },
   "source": [
    "Calculo el largo medio de las palabras "
   ]
  },
  {
   "cell_type": "code",
   "execution_count": 28,
   "id": "e51b23c1-665b-4128-a810-cb9f2294b910",
   "metadata": {
    "colab": {
     "base_uri": "https://localhost:8080/"
    },
    "executionInfo": {
     "elapsed": 42,
     "status": "ok",
     "timestamp": 1640026205797,
     "user": {
      "displayName": "Lucas Waisten",
      "photoUrl": "https://lh3.googleusercontent.com/a-/AOh14Gh4ur3rYtRmgg_ESTN1raRy7h7j5j5Pq50RpVRTUg=s64",
      "userId": "10124790364631417978"
     },
     "user_tz": 180
    },
    "id": "e51b23c1-665b-4128-a810-cb9f2294b910",
    "outputId": "88cd5b82-b6c2-4393-f8e0-b6c9c52ab744",
    "slideshow": {
     "slide_type": "skip"
    }
   },
   "outputs": [
    {
     "data": {
      "text/plain": [
       "38"
      ]
     },
     "execution_count": 28,
     "metadata": {},
     "output_type": "execute_result"
    }
   ],
   "source": [
    "MAX_LEN = int(np.percentile([len(t) for t in tokenized_texts], 95))\n",
    "MAX_LEN"
   ]
  },
  {
   "cell_type": "markdown",
   "id": "KVe7C9kcbliY",
   "metadata": {
    "id": "KVe7C9kcbliY",
    "slideshow": {
     "slide_type": "subslide"
    }
   },
   "source": [
    "## Proceso de tokenizacion de los comentarios"
   ]
  },
  {
   "cell_type": "code",
   "execution_count": 30,
   "id": "6dc21bbe-0380-4fbe-84b3-97deb26d1738",
   "metadata": {
    "executionInfo": {
     "elapsed": 27,
     "status": "ok",
     "timestamp": 1640026205797,
     "user": {
      "displayName": "Lucas Waisten",
      "photoUrl": "https://lh3.googleusercontent.com/a-/AOh14Gh4ur3rYtRmgg_ESTN1raRy7h7j5j5Pq50RpVRTUg=s64",
      "userId": "10124790364631417978"
     },
     "user_tz": 180
    },
    "id": "6dc21bbe-0380-4fbe-84b3-97deb26d1738",
    "slideshow": {
     "slide_type": "fragment"
    }
   },
   "outputs": [],
   "source": [
    "def preprocess_toks(tokenized_text):\n",
    "    tokenized_text =tokenized_text.copy()\n",
    "    if len(tokenized_text) > MAX_LEN:\n",
    "        tokenized_text = tokenized_text[:MAX_LEN]\n",
    "    for i in range(len(tokenized_text)):\n",
    "        if tokenized_text[i] in w2v_model.wv.vocab and w2v_model.wv.vocab[tokenized_text[i]].index<500000:\n",
    "            tokenized_text[i] = w2v_model.wv.vocab[tokenized_text[i]].index+2\n",
    "        else:\n",
    "            tokenized_text[i] = 1\n",
    "    return tokenized_text"
   ]
  },
  {
   "cell_type": "code",
   "execution_count": 32,
   "id": "a427add9-a036-49ee-91cf-885fbaaedb03",
   "metadata": {
    "colab": {
     "base_uri": "https://localhost:8080/"
    },
    "executionInfo": {
     "elapsed": 21614,
     "status": "ok",
     "timestamp": 1640026227391,
     "user": {
      "displayName": "Lucas Waisten",
      "photoUrl": "https://lh3.googleusercontent.com/a-/AOh14Gh4ur3rYtRmgg_ESTN1raRy7h7j5j5Pq50RpVRTUg=s64",
      "userId": "10124790364631417978"
     },
     "user_tz": 180
    },
    "id": "a427add9-a036-49ee-91cf-885fbaaedb03",
    "outputId": "333c4b3f-20fb-48c4-e9ae-08b6ce6c4253",
    "slideshow": {
     "slide_type": "skip"
    }
   },
   "outputs": [
    {
     "name": "stderr",
     "output_type": "stream",
     "text": [
      "\r",
      "  0%|          | 0/282783 [00:00<?, ?it/s]/usr/local/lib/python3.7/dist-packages/ipykernel_launcher.py:6: DeprecationWarning: Call to deprecated `wv` (Attribute will be removed in 4.0.0, use self instead).\n",
      "  \n",
      "/usr/local/lib/python3.7/dist-packages/ipykernel_launcher.py:7: DeprecationWarning: Call to deprecated `wv` (Attribute will be removed in 4.0.0, use self instead).\n",
      "  import sys\n",
      "100%|██████████| 282783/282783 [00:21<00:00, 13162.54it/s]\n"
     ]
    }
   ],
   "source": [
    "for i in tqdm(range(len(tokenized_texts)), total=len(tokenized_texts)):\n",
    "    tokenized_texts[i] = preprocess_toks(tokenized_texts[i])"
   ]
  },
  {
   "cell_type": "code",
   "execution_count": 35,
   "id": "2067c37e-8dbe-4d4e-832c-f7854f916366",
   "metadata": {
    "executionInfo": {
     "elapsed": 9,
     "status": "ok",
     "timestamp": 1640026227392,
     "user": {
      "displayName": "Lucas Waisten",
      "photoUrl": "https://lh3.googleusercontent.com/a-/AOh14Gh4ur3rYtRmgg_ESTN1raRy7h7j5j5Pq50RpVRTUg=s64",
      "userId": "10124790364631417978"
     },
     "user_tz": 180
    },
    "id": "2067c37e-8dbe-4d4e-832c-f7854f916366",
    "slideshow": {
     "slide_type": "skip"
    }
   },
   "outputs": [],
   "source": [
    "from tensorflow.keras.preprocessing.sequence import pad_sequences"
   ]
  },
  {
   "cell_type": "code",
   "execution_count": 36,
   "id": "584c8394-6c42-4f62-baf9-9ac346003734",
   "metadata": {
    "executionInfo": {
     "elapsed": 1527,
     "status": "ok",
     "timestamp": 1640026228910,
     "user": {
      "displayName": "Lucas Waisten",
      "photoUrl": "https://lh3.googleusercontent.com/a-/AOh14Gh4ur3rYtRmgg_ESTN1raRy7h7j5j5Pq50RpVRTUg=s64",
      "userId": "10124790364631417978"
     },
     "user_tz": 180
    },
    "id": "584c8394-6c42-4f62-baf9-9ac346003734",
    "slideshow": {
     "slide_type": "skip"
    }
   },
   "outputs": [],
   "source": [
    "tokenized_texts = pad_sequences(\n",
    "    tokenized_texts, maxlen=MAX_LEN, dtype='int32', padding='post',\n",
    "    truncating='post', value=0\n",
    ")"
   ]
  },
  {
   "cell_type": "code",
   "execution_count": 38,
   "id": "ea48dc30-0335-49e1-ac67-1a521ab8e7d1",
   "metadata": {
    "executionInfo": {
     "elapsed": 3,
     "status": "ok",
     "timestamp": 1640026228911,
     "user": {
      "displayName": "Lucas Waisten",
      "photoUrl": "https://lh3.googleusercontent.com/a-/AOh14Gh4ur3rYtRmgg_ESTN1raRy7h7j5j5Pq50RpVRTUg=s64",
      "userId": "10124790364631417978"
     },
     "user_tz": 180
    },
    "id": "ea48dc30-0335-49e1-ac67-1a521ab8e7d1",
    "slideshow": {
     "slide_type": "skip"
    }
   },
   "outputs": [],
   "source": [
    "from keras.layers import Dense, Input, GRU, Embedding\n",
    "from keras.models import Model"
   ]
  },
  {
   "cell_type": "markdown",
   "id": "XMoRHE0obu6h",
   "metadata": {
    "id": "XMoRHE0obu6h",
    "slideshow": {
     "slide_type": "subslide"
    }
   },
   "source": [
    "## Red Neuronal "
   ]
  },
  {
   "cell_type": "code",
   "execution_count": 39,
   "id": "be99e6ff-8bd5-4689-993d-a93ce7aa0203",
   "metadata": {
    "executionInfo": {
     "elapsed": 2073,
     "status": "ok",
     "timestamp": 1640026230981,
     "user": {
      "displayName": "Lucas Waisten",
      "photoUrl": "https://lh3.googleusercontent.com/a-/AOh14Gh4ur3rYtRmgg_ESTN1raRy7h7j5j5Pq50RpVRTUg=s64",
      "userId": "10124790364631417978"
     },
     "user_tz": 180
    },
    "id": "be99e6ff-8bd5-4689-993d-a93ce7aa0203",
    "slideshow": {
     "slide_type": "fragment"
    }
   },
   "outputs": [],
   "source": [
    "word_indexes = Input((38,), dtype='int32')\n",
    "\n",
    "word_emb = Embedding(100002, 300, weights=[emb_matrix], \n",
    "                     trainable=False, mask_zero=True)\n",
    "\n",
    "emb_sequence = word_emb(word_indexes) # (22, 300)\n",
    "rnn1 = GRU(50, activation='tanh')(emb_sequence) # (1,50)\n",
    "dense1 = Dense(50, activation='tanh')(rnn1)\n",
    "dense2 = Dense(50, activation='tanh')(dense1)\n",
    "dense3 = Dense(50, activation='tanh')(dense2)\n",
    "\n",
    "out = Dense(1, activation=None)(dense3)\n",
    "model = Model(inputs=word_indexes, outputs=out)"
   ]
  },
  {
   "cell_type": "code",
   "execution_count": 40,
   "id": "053bc11e-2db2-4c85-8b17-9292f6859654",
   "metadata": {
    "colab": {
     "base_uri": "https://localhost:8080/"
    },
    "executionInfo": {
     "elapsed": 26,
     "status": "ok",
     "timestamp": 1640026230982,
     "user": {
      "displayName": "Lucas Waisten",
      "photoUrl": "https://lh3.googleusercontent.com/a-/AOh14Gh4ur3rYtRmgg_ESTN1raRy7h7j5j5Pq50RpVRTUg=s64",
      "userId": "10124790364631417978"
     },
     "user_tz": 180
    },
    "id": "053bc11e-2db2-4c85-8b17-9292f6859654",
    "outputId": "5f3920f0-1de6-437c-b24c-dd8ea8b7fa3b",
    "slideshow": {
     "slide_type": "subslide"
    }
   },
   "outputs": [
    {
     "name": "stdout",
     "output_type": "stream",
     "text": [
      "Model: \"model\"\n",
      "_________________________________________________________________\n",
      " Layer (type)                Output Shape              Param #   \n",
      "=================================================================\n",
      " input_1 (InputLayer)        [(None, 38)]              0         \n",
      "                                                                 \n",
      " embedding (Embedding)       (None, 38, 300)           30000600  \n",
      "                                                                 \n",
      " gru (GRU)                   (None, 50)                52800     \n",
      "                                                                 \n",
      " dense (Dense)               (None, 50)                2550      \n",
      "                                                                 \n",
      " dense_1 (Dense)             (None, 50)                2550      \n",
      "                                                                 \n",
      " dense_2 (Dense)             (None, 50)                2550      \n",
      "                                                                 \n",
      " dense_3 (Dense)             (None, 1)                 51        \n",
      "                                                                 \n",
      "=================================================================\n",
      "Total params: 30,061,101\n",
      "Trainable params: 60,501\n",
      "Non-trainable params: 30,000,600\n",
      "_________________________________________________________________\n"
     ]
    }
   ],
   "source": [
    "model.summary()"
   ]
  },
  {
   "cell_type": "markdown",
   "id": "fxu-h8WHbyn1",
   "metadata": {
    "id": "fxu-h8WHbyn1",
    "slideshow": {
     "slide_type": "subslide"
    }
   },
   "source": [
    "## Entrenameinto de la red neuronal"
   ]
  },
  {
   "cell_type": "code",
   "execution_count": 43,
   "id": "47545a4a-0544-4e2c-9aac-cfd5263e3dde",
   "metadata": {
    "executionInfo": {
     "elapsed": 18,
     "status": "ok",
     "timestamp": 1640026230985,
     "user": {
      "displayName": "Lucas Waisten",
      "photoUrl": "https://lh3.googleusercontent.com/a-/AOh14Gh4ur3rYtRmgg_ESTN1raRy7h7j5j5Pq50RpVRTUg=s64",
      "userId": "10124790364631417978"
     },
     "user_tz": 180
    },
    "id": "47545a4a-0544-4e2c-9aac-cfd5263e3dde",
    "slideshow": {
     "slide_type": "fragment"
    }
   },
   "outputs": [],
   "source": [
    "model.compile(optimizer=keras.optimizers.Adam(learning_rate=0.001), loss=\"mse\", metrics=[\"mae\"])"
   ]
  },
  {
   "cell_type": "code",
   "execution_count": 56,
   "id": "533814ca-f8be-40a4-a694-f4a81c0fcfe7",
   "metadata": {
    "colab": {
     "base_uri": "https://localhost:8080/"
    },
    "executionInfo": {
     "elapsed": 2122639,
     "status": "ok",
     "timestamp": 1640029990445,
     "user": {
      "displayName": "Lucas Waisten",
      "photoUrl": "https://lh3.googleusercontent.com/a-/AOh14Gh4ur3rYtRmgg_ESTN1raRy7h7j5j5Pq50RpVRTUg=s64",
      "userId": "10124790364631417978"
     },
     "user_tz": 180
    },
    "id": "533814ca-f8be-40a4-a694-f4a81c0fcfe7",
    "outputId": "4d8a55e0-8606-4cc4-c5db-e9eb2d61ba29",
    "slideshow": {
     "slide_type": "subslide"
    }
   },
   "outputs": [
    {
     "name": "stdout",
     "output_type": "stream",
     "text": [
      "Epoch 1/15\n",
      "995/995 [==============================] - 153s 153ms/step - loss: 0.6022 - mae: 0.2493 - val_loss: 0.9146 - val_mae: 0.3448\n",
      "Epoch 2/15\n",
      "995/995 [==============================] - 165s 166ms/step - loss: 0.5805 - mae: 0.2401 - val_loss: 0.9382 - val_mae: 0.3066\n",
      "Epoch 3/15\n",
      "995/995 [==============================] - 137s 138ms/step - loss: 0.5640 - mae: 0.2320 - val_loss: 0.9233 - val_mae: 0.3230\n",
      "Epoch 4/15\n",
      "995/995 [==============================] - 130s 131ms/step - loss: 0.5466 - mae: 0.2256 - val_loss: 0.9511 - val_mae: 0.3317\n",
      "Epoch 5/15\n",
      "995/995 [==============================] - 132s 132ms/step - loss: 0.5351 - mae: 0.2215 - val_loss: 0.9457 - val_mae: 0.2885\n",
      "Epoch 6/15\n",
      "995/995 [==============================] - 131s 131ms/step - loss: 0.5219 - mae: 0.2170 - val_loss: 0.9883 - val_mae: 0.3018\n",
      "Epoch 7/15\n",
      "995/995 [==============================] - 129s 129ms/step - loss: 0.5078 - mae: 0.2080 - val_loss: 0.9857 - val_mae: 0.3344\n",
      "Epoch 8/15\n",
      "995/995 [==============================] - 129s 130ms/step - loss: 0.4992 - mae: 0.2069 - val_loss: 0.9811 - val_mae: 0.3478\n",
      "Epoch 9/15\n",
      "995/995 [==============================] - 128s 129ms/step - loss: 0.4890 - mae: 0.2033 - val_loss: 1.0332 - val_mae: 0.3151\n",
      "Epoch 10/15\n",
      "995/995 [==============================] - 129s 129ms/step - loss: 0.4796 - mae: 0.1984 - val_loss: 0.9657 - val_mae: 0.3113\n",
      "Epoch 11/15\n",
      "995/995 [==============================] - 142s 143ms/step - loss: 0.4702 - mae: 0.1950 - val_loss: 1.0024 - val_mae: 0.2863\n",
      "Epoch 12/15\n",
      "995/995 [==============================] - 154s 154ms/step - loss: 0.4601 - mae: 0.1909 - val_loss: 1.0001 - val_mae: 0.3269\n",
      "Epoch 13/15\n",
      "995/995 [==============================] - 159s 160ms/step - loss: 0.4510 - mae: 0.1870 - val_loss: 1.0190 - val_mae: 0.3062\n",
      "Epoch 14/15\n",
      "995/995 [==============================] - 157s 158ms/step - loss: 0.4494 - mae: 0.1874 - val_loss: 0.9889 - val_mae: 0.2942\n",
      "Epoch 15/15\n",
      "995/995 [==============================] - 146s 147ms/step - loss: 0.4411 - mae: 0.1829 - val_loss: 1.0199 - val_mae: 0.3507\n"
     ]
    },
    {
     "data": {
      "text/plain": [
       "<keras.callbacks.History at 0x7f4b3fe0dad0>"
      ]
     },
     "execution_count": 56,
     "metadata": {},
     "output_type": "execute_result"
    }
   ],
   "source": [
    "model.fit(tokenized_texts, train['rating'].values, validation_split=0.1, epochs=15, batch_size=256)"
   ]
  },
  {
   "cell_type": "code",
   "execution_count": 58,
   "id": "ee1e42bf-8552-4751-8ce2-3a016ca188d5",
   "metadata": {
    "colab": {
     "base_uri": "https://localhost:8080/"
    },
    "executionInfo": {
     "elapsed": 6888,
     "status": "ok",
     "timestamp": 1640029997327,
     "user": {
      "displayName": "Lucas Waisten",
      "photoUrl": "https://lh3.googleusercontent.com/a-/AOh14Gh4ur3rYtRmgg_ESTN1raRy7h7j5j5Pq50RpVRTUg=s64",
      "userId": "10124790364631417978"
     },
     "user_tz": 180
    },
    "id": "ee1e42bf-8552-4751-8ce2-3a016ca188d5",
    "outputId": "008a6036-7d34-4270-ee3d-d7c9f1fcf257",
    "slideshow": {
     "slide_type": "skip"
    }
   },
   "outputs": [
    {
     "name": "stderr",
     "output_type": "stream",
     "text": [
      "100%|██████████| 31423/31423 [00:06<00:00, 4593.32it/s]\n"
     ]
    }
   ],
   "source": [
    "tokenized_texts_test = []\n",
    "for texto in tqdm(test['comment'].apply(str)):\n",
    "    tokenized_texts_test.append(nltk.word_tokenize(texto))"
   ]
  },
  {
   "cell_type": "code",
   "execution_count": 60,
   "id": "08ae0b55-d54d-4965-a129-ed9e5a3705b4",
   "metadata": {
    "colab": {
     "base_uri": "https://localhost:8080/"
    },
    "executionInfo": {
     "elapsed": 2767,
     "status": "ok",
     "timestamp": 1640030000064,
     "user": {
      "displayName": "Lucas Waisten",
      "photoUrl": "https://lh3.googleusercontent.com/a-/AOh14Gh4ur3rYtRmgg_ESTN1raRy7h7j5j5Pq50RpVRTUg=s64",
      "userId": "10124790364631417978"
     },
     "user_tz": 180
    },
    "id": "08ae0b55-d54d-4965-a129-ed9e5a3705b4",
    "outputId": "d2ddd0f7-425f-4807-cf31-0ef2ad3689c5",
    "slideshow": {
     "slide_type": "skip"
    }
   },
   "outputs": [
    {
     "name": "stderr",
     "output_type": "stream",
     "text": [
      "\r",
      "  0%|          | 0/31423 [00:00<?, ?it/s]/usr/local/lib/python3.7/dist-packages/ipykernel_launcher.py:6: DeprecationWarning: Call to deprecated `wv` (Attribute will be removed in 4.0.0, use self instead).\n",
      "  \n",
      "/usr/local/lib/python3.7/dist-packages/ipykernel_launcher.py:7: DeprecationWarning: Call to deprecated `wv` (Attribute will be removed in 4.0.0, use self instead).\n",
      "  import sys\n",
      "100%|██████████| 31423/31423 [00:02<00:00, 10815.70it/s]\n"
     ]
    }
   ],
   "source": [
    "for i in tqdm(range(len(tokenized_texts_test)), total=len(tokenized_texts_test)):\n",
    "  tokenized_texts_test[i] = preprocess_toks(tokenized_texts_test[i])"
   ]
  },
  {
   "cell_type": "code",
   "execution_count": 61,
   "id": "2ee2c9fc-50b0-42b5-ac2b-ae1184886c56",
   "metadata": {
    "executionInfo": {
     "elapsed": 453,
     "status": "ok",
     "timestamp": 1640030000512,
     "user": {
      "displayName": "Lucas Waisten",
      "photoUrl": "https://lh3.googleusercontent.com/a-/AOh14Gh4ur3rYtRmgg_ESTN1raRy7h7j5j5Pq50RpVRTUg=s64",
      "userId": "10124790364631417978"
     },
     "user_tz": 180
    },
    "id": "2ee2c9fc-50b0-42b5-ac2b-ae1184886c56",
    "slideshow": {
     "slide_type": "skip"
    }
   },
   "outputs": [],
   "source": [
    "tokenized_texts_test = pad_sequences(\n",
    "    tokenized_texts_test, maxlen=MAX_LEN, dtype='int32', padding='post',\n",
    "    truncating='post', value=0\n",
    ")"
   ]
  },
  {
   "cell_type": "code",
   "execution_count": 63,
   "id": "e7b681bf-b310-424f-800e-9a2b90bff080",
   "metadata": {
    "executionInfo": {
     "elapsed": 14225,
     "status": "ok",
     "timestamp": 1640030014732,
     "user": {
      "displayName": "Lucas Waisten",
      "photoUrl": "https://lh3.googleusercontent.com/a-/AOh14Gh4ur3rYtRmgg_ESTN1raRy7h7j5j5Pq50RpVRTUg=s64",
      "userId": "10124790364631417978"
     },
     "user_tz": 180
    },
    "id": "e7b681bf-b310-424f-800e-9a2b90bff080",
    "slideshow": {
     "slide_type": "fragment"
    }
   },
   "outputs": [],
   "source": [
    "preds = model.predict(tokenized_texts_test)"
   ]
  },
  {
   "cell_type": "code",
   "execution_count": 64,
   "id": "d60a0849-3832-4abd-8036-e15a74262cbf",
   "metadata": {
    "executionInfo": {
     "elapsed": 40,
     "status": "ok",
     "timestamp": 1640030014732,
     "user": {
      "displayName": "Lucas Waisten",
      "photoUrl": "https://lh3.googleusercontent.com/a-/AOh14Gh4ur3rYtRmgg_ESTN1raRy7h7j5j5Pq50RpVRTUg=s64",
      "userId": "10124790364631417978"
     },
     "user_tz": 180
    },
    "id": "d60a0849-3832-4abd-8036-e15a74262cbf",
    "slideshow": {
     "slide_type": "fragment"
    }
   },
   "outputs": [],
   "source": [
    "pred_list = np.round(preds,0).flatten().tolist()"
   ]
  },
  {
   "cell_type": "markdown",
   "id": "fd-F0KZbb2pz",
   "metadata": {
    "id": "fd-F0KZbb2pz",
    "slideshow": {
     "slide_type": "subslide"
    }
   },
   "source": [
    "## Score de la metrica roc_auc"
   ]
  },
  {
   "cell_type": "code",
   "execution_count": 67,
   "id": "3Gzh9sE-euoF",
   "metadata": {
    "colab": {
     "base_uri": "https://localhost:8080/"
    },
    "executionInfo": {
     "elapsed": 8,
     "status": "ok",
     "timestamp": 1640030539457,
     "user": {
      "displayName": "Lucas Waisten",
      "photoUrl": "https://lh3.googleusercontent.com/a-/AOh14Gh4ur3rYtRmgg_ESTN1raRy7h7j5j5Pq50RpVRTUg=s64",
      "userId": "10124790364631417978"
     },
     "user_tz": 180
    },
    "id": "3Gzh9sE-euoF",
    "outputId": "9b60558c-b154-4dad-c63e-db737567c2cc",
    "slideshow": {
     "slide_type": "fragment"
    }
   },
   "outputs": [
    {
     "data": {
      "text/plain": [
       "0.7808977021252786"
      ]
     },
     "execution_count": 67,
     "metadata": {},
     "output_type": "execute_result"
    }
   ],
   "source": [
    "from sklearn.metrics import roc_auc_score\n",
    "roc_auc_score(test.rating.values,pred_list,multi_class='ovr')"
   ]
  }
 ],
 "metadata": {
  "celltoolbar": "Slideshow",
  "colab": {
   "collapsed_sections": [],
   "name": "TP4-RedNeuronal.ipynb",
   "provenance": []
  },
  "kernelspec": {
   "display_name": "Python 3 (ipykernel)",
   "language": "python",
   "name": "python3"
  },
  "language_info": {
   "codemirror_mode": {
    "name": "ipython",
    "version": 3
   },
   "file_extension": ".py",
   "mimetype": "text/x-python",
   "name": "python",
   "nbconvert_exporter": "python",
   "pygments_lexer": "ipython3",
   "version": "3.8.10"
  }
 },
 "nbformat": 4,
 "nbformat_minor": 5
}
